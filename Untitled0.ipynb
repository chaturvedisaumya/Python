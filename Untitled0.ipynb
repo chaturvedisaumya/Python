{
  "nbformat": 4,
  "nbformat_minor": 0,
  "metadata": {
    "colab": {
      "name": "Untitled0.ipynb",
      "provenance": [],
      "include_colab_link": true
    },
    "kernelspec": {
      "name": "python3",
      "display_name": "Python 3"
    }
  },
  "cells": [
    {
      "cell_type": "markdown",
      "metadata": {
        "id": "view-in-github",
        "colab_type": "text"
      },
      "source": [
        "<a href=\"https://colab.research.google.com/github/chaturvedisaumya/Python/blob/master/Untitled0.ipynb\" target=\"_parent\"><img src=\"https://colab.research.google.com/assets/colab-badge.svg\" alt=\"Open In Colab\"/></a>"
      ]
    },
    {
      "cell_type": "code",
      "metadata": {
        "id": "UgdNsN5sFMhL",
        "colab_type": "code",
        "outputId": "7a429a5f-2484-4d32-aee0-eca695695070",
        "colab": {
          "base_uri": "https://localhost:8080/",
          "height": 51
        }
      },
      "source": [
        "print(\"geeks\", end =\" \") \n",
        "print(\"geeksforgeeks\") \n",
        "  \n",
        "# array \n",
        "a = [1, 2, 3, 4] \n",
        "  \n",
        "# printing a element in same \n",
        "# line \n",
        "for i in range(4): \n",
        "    print(a[i], end =\" \") "
      ],
      "execution_count": 0,
      "outputs": [
        {
          "output_type": "stream",
          "text": [
            "geeks geeksforgeeks\n",
            "1 2 3 4 "
          ],
          "name": "stdout"
        }
      ]
    },
    {
      "cell_type": "markdown",
      "metadata": {
        "id": "E8uENrP3Id_d",
        "colab_type": "text"
      },
      "source": [
        "# method to find sum of digits  \n",
        "# of a number until sum becomes  \n",
        "# single digit \n",
        "def digSum( n): \n",
        "    sum = 0\n",
        "      \n",
        "    while(n > 0 or sum > 9): \n",
        "      \n",
        "        if(n == 0): \n",
        "            n = sum\n",
        "            sum = 0\n",
        "          \n",
        "        sum += n % 10\n",
        "        n /= 10\n",
        "      \n",
        "    return sum"
      ]
    },
    {
      "cell_type": "code",
      "metadata": {
        "id": "r2E1owu8Iq4O",
        "colab_type": "code",
        "outputId": "6f76c958-1240-47c6-afba-af17930a1cb9",
        "colab": {
          "base_uri": "https://localhost:8080/",
          "height": 129
        }
      },
      "source": [
        "# method to find sum of digits  \n",
        "# of a number until sum becomes  \n",
        "# single digit \n",
        "def digSum( n): \n",
        "    sum = 0\n",
        "      \n",
        "    while(n > 0 or sum > 9): \n",
        "      if(n == 0): \n",
        "         n = sum\n",
        "          sum = 0\n",
        "          \n",
        "      sum += n % 10\n",
        "      n /= 10\n",
        "      \n",
        "    return sum\n",
        " n = 1234\n",
        "print (digSum(n)) \n",
        "  "
      ],
      "execution_count": 0,
      "outputs": [
        {
          "output_type": "error",
          "ename": "IndentationError",
          "evalue": "ignored",
          "traceback": [
            "\u001b[0;36m  File \u001b[0;32m\"<ipython-input-10-556b17ec8b46>\"\u001b[0;36m, line \u001b[0;32m10\u001b[0m\n\u001b[0;31m    sum += n % 10\u001b[0m\n\u001b[0m                 ^\u001b[0m\n\u001b[0;31mIndentationError\u001b[0m\u001b[0;31m:\u001b[0m unindent does not match any outer indentation level\n"
          ]
        }
      ]
    },
    {
      "cell_type": "code",
      "metadata": {
        "id": "1qdjYj9gJuA2",
        "colab_type": "code",
        "outputId": "8f0bb266-8f42-4c49-80c5-58e996ba6e0f",
        "colab": {
          "base_uri": "https://localhost:8080/",
          "height": 34
        }
      },
      "source": [
        "import math\n",
        "def digSum(n): \n",
        "  \n",
        "    if (n == 0): \n",
        "        return 0\n",
        "    if (n % 9 == 0): \n",
        "        return 9 \n",
        "    else: \n",
        "        (n % 9) \n",
        "  \n",
        "# Driver program to test the above function \n",
        "n = \n",
        "print(digSum(n)) \n",
        "  "
      ],
      "execution_count": 0,
      "outputs": [
        {
          "output_type": "stream",
          "text": [
            "9\n"
          ],
          "name": "stdout"
        }
      ]
    },
    {
      "cell_type": "code",
      "metadata": {
        "id": "XFPgUg8uKFqP",
        "colab_type": "code",
        "outputId": "92958da8-2284-4231-bfa4-0ba27c99285c",
        "colab": {
          "base_uri": "https://localhost:8080/",
          "height": 51
        }
      },
      "source": [
        "import math  \n",
        "  \n",
        "\n",
        "def digSum( n): \n",
        "    sum = 0\n",
        "      \n",
        "    while(n > 0 or sum > 9): \n",
        "      \n",
        "        if(n == 0): \n",
        "            n = sum\n",
        "            sum = 0\n",
        "          \n",
        "        sum =sum+ n % 10\n",
        "        n=int (n/ 10)\n",
        "      \n",
        "    return sum\n",
        "  \n",
        "# Driver method \n",
        "n = 98\n",
        "print (digSum(n)) \n",
        "n = 12\n",
        "print (digSum(n)) \n",
        "   "
      ],
      "execution_count": 0,
      "outputs": [
        {
          "output_type": "stream",
          "text": [
            "8\n",
            "3\n"
          ],
          "name": "stdout"
        }
      ]
    },
    {
      "cell_type": "code",
      "metadata": {
        "id": "uA5ADeBYPFWj",
        "colab_type": "code",
        "outputId": "fa0078d6-e535-4b39-ac64-0e417deff0e7",
        "colab": {
          "base_uri": "https://localhost:8080/",
          "height": 68
        }
      },
      "source": [
        "import math\n",
        "def cR(Ropes,n):\n",
        "  Ropes.sort()\n",
        "  so=0\n",
        "  cL=Ropes[0]\n",
        "  for i in range(1,n):\n",
        "    if (Ropes[i]-cL>0):\n",
        "      print((n-i), end =\" \")\n",
        "      cL=Ropes[i]\n",
        "      so=so+1\n",
        "\n",
        "  if (so==0):\n",
        "    print(\"0\",end=\" \")\n",
        "\n",
        "Ropes=[5,1,1,2,3,5]\n",
        "n=len(Ropes)\n",
        "cR(Ropes,n)\n",
        "\n",
        "print(\"\\n\")\n",
        "Ropes=[5,1,6,9,8,1,1,2,2,6,5]\n",
        "n=len(Ropes)\n",
        "cR(Ropes,n)"
      ],
      "execution_count": 0,
      "outputs": [
        {
          "output_type": "stream",
          "text": [
            "4 3 2 \n",
            "\n",
            "8 6 4 2 1 "
          ],
          "name": "stdout"
        }
      ]
    },
    {
      "cell_type": "code",
      "metadata": {
        "id": "l27bCx_ylq5p",
        "colab_type": "code",
        "colab": {}
      },
      "source": [
        "import java.io.BufferedReader;\n",
        "import java.io.InputStreamReader;\n",
        "import java.io.*;\n",
        "import java.util.*;\n",
        "public class Solution {\n",
        "    public static void main(String[] args )  {\n",
        "        Scanner sc=new Scanner(System.in);\n",
        "        String A=sc.next();\n",
        "        String B=sc.next();\n",
        "        String output =\"No\";\n",
        "        System.out.println(A.length()+B.length());\n",
        "        \n",
        "        if (A.compareTo(B)>0){\n",
        "            output=\"Yes\";\n",
        "        }\n",
        "        System.out.println(output);\n",
        "        System.out.println(A.substring(0,1).toUpperCase()+\"\"+A.substring(1)+\" \"+B.substring(0,1).toUpperCase()+\"\" +B.substring(1));\n",
        "    }\n",
        "}\n"
      ],
      "execution_count": 0,
      "outputs": []
    }
  ]
}